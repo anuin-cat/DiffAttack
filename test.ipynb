{
 "cells": [
  {
   "cell_type": "code",
   "execution_count": 1,
   "metadata": {},
   "outputs": [],
   "source": [
    "from diffusers import DiffusionPipeline, DPMSolverMultistepScheduler\n",
    "import torch\n",
    "import torch\n",
    "from diffusers import StableDiffusionPipeline, DDIMScheduler\n",
    "from attentionControl import AttentionControlEdit\n",
    "import diff_latent_attack\n",
    "from PIL import Image\n",
    "import numpy as np\n",
    "import os\n",
    "import glob\n",
    "from other_attacks import model_transfer\n",
    "import random\n",
    "import sys\n",
    "from natsort import ns, natsorted\n",
    "import argparse"
   ]
  },
  {
   "cell_type": "code",
   "execution_count": null,
   "metadata": {},
   "outputs": [],
   "source": [
    "repo_id = \"stabilityai/stable-diffusion-2-base\"\n",
    "pipe = DiffusionPipeline.from_pretrained(repo_id, torch_dtype=torch.float16, revision=\"fp16\")\n",
    "\n",
    "pipe.scheduler = DPMSolverMultistepScheduler.from_config(pipe.scheduler.config)\n",
    "pipe = pipe.to(\"cuda\")\n",
    "\n",
    "prompt = \"Best quality, masterpiece, ultra high res, (photorealistic:1.4), raw photo, 1girl, offshoulder, in the dark, deep shadow, low key, cold light\"\n",
    "image = pipe(prompt, num_inference_steps=50).images[0]\n",
    "image.save(\"astronaut.png\")"
   ]
  },
  {
   "cell_type": "code",
   "execution_count": null,
   "metadata": {},
   "outputs": [],
   "source": [
    "pretrained_diffusion_path = \"stabilityai/stable-diffusion-2-base\"\n",
    "ldm_stable = StableDiffusionPipeline.from_pretrained(pretrained_diffusion_path).to('cuda:0')\n",
    "ldm_stable.scheduler = DDIMScheduler.from_config(ldm_stable.scheduler.config)"
   ]
  },
  {
   "cell_type": "code",
   "execution_count": null,
   "metadata": {},
   "outputs": [],
   "source": [
    "code_all = ldm_stable.tokenizer(\"hello world xxxxxxxxfdgdfgdgxxxxxxxxxasfsdfsfdf\")\n",
    "code = ldm_stable.tokenizer.encode(\"hello world xxxxxxxxfdgdfgdgxxxxxxxxxasfsdfsfdf\")\n",
    "code_str = ldm_stable.tokenizer.decode(code)\n",
    "\n",
    "print(code_all)\n",
    "print(code)\n",
    "print(code_str)\n"
   ]
  },
  {
   "cell_type": "code",
   "execution_count": 6,
   "metadata": {},
   "outputs": [],
   "source": [
    "! export https_proxy=http://turbo.gpushare.com:30000 http_proxy=http://turbo.gpushare.com:30000\n",
    "\n",
    "from other_attacks import model_selection\n",
    "\n",
    "# models_transfer_name = [\"resnet\", \"vgg\", \"mobile\", \"inception\", \"convnext\", \"vit\", \"swin\", 'deit-b', 'deit-s',\n",
    "#                             'mixer-b', 'mixer-l', 'tf2torch_adv_inception_v3', 'tf2torch_ens3_adv_inc_v3',\n",
    "#                             'tf2torch_ens4_adv_inc_v3', 'tf2torch_ens_adv_inc_res_v2']\n",
    "models_transfer_name = [\"resnet\", \"vgg\", \"mobile\", \"inception\", \"convnext\", \"vit\", \"swin\", 'deit-b', 'deit-s',\n",
    "                            'mixer-b', 'mixer-l']\n",
    "\n",
    "for name in models_transfer_name:\n",
    "    model = model_selection(name)"
   ]
  }
 ],
 "metadata": {
  "kernelspec": {
   "display_name": "Python 3",
   "language": "python",
   "name": "python3"
  },
  "language_info": {
   "codemirror_mode": {
    "name": "ipython",
    "version": 3
   },
   "file_extension": ".py",
   "mimetype": "text/x-python",
   "name": "python",
   "nbconvert_exporter": "python",
   "pygments_lexer": "ipython3",
   "version": "3.8.10"
  },
  "orig_nbformat": 4
 },
 "nbformat": 4,
 "nbformat_minor": 2
}
