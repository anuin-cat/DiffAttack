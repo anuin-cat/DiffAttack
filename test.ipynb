{
 "cells": [
  {
   "cell_type": "code",
   "execution_count": 1,
   "metadata": {},
   "outputs": [],
   "source": [
    "from diffusers import DiffusionPipeline, DPMSolverMultistepScheduler\n",
    "import torch\n",
    "import torch\n",
    "from diffusers import StableDiffusionPipeline, DDIMScheduler\n",
    "from attentionControl import AttentionControlEdit\n",
    "import diff_latent_attack\n",
    "from PIL import Image\n",
    "import numpy as np\n",
    "import os\n",
    "import glob\n",
    "from other_attacks import model_transfer\n",
    "import random\n",
    "import sys\n",
    "from natsort import ns, natsorted\n",
    "import argparse"
   ]
  },
  {
   "cell_type": "code",
   "execution_count": null,
   "metadata": {},
   "outputs": [],
   "source": [
    "repo_id = \"stabilityai/stable-diffusion-2-base\"\n",
    "pipe = DiffusionPipeline.from_pretrained(repo_id, torch_dtype=torch.float16, revision=\"fp16\")\n",
    "\n",
    "pipe.scheduler = DPMSolverMultistepScheduler.from_config(pipe.scheduler.config)\n",
    "pipe = pipe.to(\"cuda\")\n",
    "\n",
    "prompt = \"Best quality, masterpiece, ultra high res, (photorealistic:1.4), raw photo, 1girl, offshoulder, in the dark, deep shadow, low key, cold light\"\n",
    "image = pipe(prompt, num_inference_steps=50).images[0]\n",
    "image.save(\"astronaut.png\")"
   ]
  },
  {
   "cell_type": "code",
   "execution_count": null,
   "metadata": {},
   "outputs": [],
   "source": [
    "pretrained_diffusion_path = \"stabilityai/stable-diffusion-2-base\"\n",
    "ldm_stable = StableDiffusionPipeline.from_pretrained(pretrained_diffusion_path).to('cuda:0')\n",
    "ldm_stable.scheduler = DDIMScheduler.from_config(ldm_stable.scheduler.config)"
   ]
  },
  {
   "cell_type": "code",
   "execution_count": null,
   "metadata": {},
   "outputs": [],
   "source": [
    "code_all = ldm_stable.tokenizer(\"hello world xxxxxxxxfdgdfgdgxxxxxxxxxasfsdfsfdf\")\n",
    "code = ldm_stable.tokenizer.encode(\"hello world xxxxxxxxfdgdfgdgxxxxxxxxxasfsdfsfdf\")\n",
    "code_str = ldm_stable.tokenizer.decode(code)\n",
    "\n",
    "print(code_all)\n",
    "print(code)\n",
    "print(code_str)\n"
   ]
  },
  {
   "cell_type": "code",
   "execution_count": 6,
   "metadata": {},
   "outputs": [],
   "source": [
    "! export https_proxy=http://turbo.gpushare.com:30000 http_proxy=http://turbo.gpushare.com:30000\n",
    "\n",
    "from other_attacks import model_selection\n",
    "\n",
    "# models_transfer_name = [\"resnet\", \"vgg\", \"mobile\", \"inception\", \"convnext\", \"vit\", \"swin\", 'deit-b', 'deit-s',\n",
    "#                             'mixer-b', 'mixer-l', 'tf2torch_adv_inception_v3', 'tf2torch_ens3_adv_inc_v3',\n",
    "#                             'tf2torch_ens4_adv_inc_v3', 'tf2torch_ens_adv_inc_res_v2']\n",
    "models_transfer_name = [\"resnet\", \"vgg\", \"mobile\", \"inception\", \"convnext\", \"vit\", \"swin\", 'deit-b', 'deit-s',\n",
    "                            'mixer-b', 'mixer-l']\n",
    "\n",
    "for name in models_transfer_name:\n",
    "    model = model_selection(name)"
   ]
  },
  {
   "cell_type": "code",
   "execution_count": 20,
   "metadata": {},
   "outputs": [
    {
     "data": {
      "text/plain": [
       "tensor([-0.1123, -0.0604, -0.0974, -0.0652, -0.0022, -0.3359,  0.1098,  0.0798,\n",
       "         0.3170,  0.4750,  0.0655, -0.0515,  0.2791,  0.0928,  0.0677,  0.1148,\n",
       "        -0.1695, -0.0696,  0.2180,  0.0454,  0.5167, -0.0930, -0.2801, -0.3299,\n",
       "        -0.3137, -0.0812,  0.0168, -0.2425,  0.0949, -0.0797,  0.1307, -0.0897,\n",
       "        -0.0370,  0.0398, -0.0651, -0.0665, -0.0793,  0.0869,  0.0932,  0.2013,\n",
       "        -0.0750,  0.0680,  0.0773,  0.1288,  0.2136, -0.2136, -0.1233, -0.2757,\n",
       "        -0.1075,  0.1196, -0.2139, -0.3380,  0.2157, -0.2172, -0.1967,  0.0083,\n",
       "        -0.0950,  0.2830,  0.2774, -0.1848,  0.2398,  0.1096,  0.0351, -0.0164,\n",
       "         0.1670,  0.0598, -0.0179, -0.2654,  0.1957,  0.1590,  0.0766, -0.2397,\n",
       "        -0.0390, -0.1565, -0.2180, -0.0020,  0.0602, -0.1038,  0.0813, -0.0424,\n",
       "         0.3504, -0.0687, -0.0176, -0.0359, -0.1863,  0.0670, -0.0657,  0.0969,\n",
       "        -0.2065,  0.1179,  0.1353,  0.1265, -0.0668,  0.3650,  0.1122,  0.1341,\n",
       "         0.0256,  0.1060, -0.1015, -0.0721])"
      ]
     },
     "execution_count": 20,
     "metadata": {},
     "output_type": "execute_result"
    }
   ],
   "source": [
    "start_value = 0.0001\n",
    "end_value = 0.01\n",
    "num_elements = 40\n",
    "\n",
    "b = torch.linspace(start_value, end_value, num_elements)\n",
    "a = torch.ones_like(b) - b\n",
    "a_bar = torch.cumprod(a,0)\n",
    "\n",
    "n = torch.randn(100)\n",
    "b = n*torch.sqrt(1-a_bar[20])\n",
    "\n",
    "b"
   ]
  }
 ],
 "metadata": {
  "kernelspec": {
   "display_name": "Python 3",
   "language": "python",
   "name": "python3"
  },
  "language_info": {
   "codemirror_mode": {
    "name": "ipython",
    "version": 3
   },
   "file_extension": ".py",
   "mimetype": "text/x-python",
   "name": "python",
   "nbconvert_exporter": "python",
   "pygments_lexer": "ipython3",
   "version": "3.8.10"
  },
  "orig_nbformat": 4
 },
 "nbformat": 4,
 "nbformat_minor": 2
}
