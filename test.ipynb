{
 "cells": [
  {
   "cell_type": "code",
   "execution_count": 5,
   "metadata": {},
   "outputs": [],
   "source": [
    "from diffusers import DiffusionPipeline, DPMSolverMultistepScheduler\n",
    "import torch\n",
    "import torch.nn as nn\n",
    "from diffusers import StableDiffusionPipeline, DDIMScheduler\n",
    "from PIL import Image\n",
    "import numpy as np\n",
    "from other_attacks import model_transfer\n",
    "import random\n",
    "import sys\n",
    "from natsort import ns, natsorted"
   ]
  },
  {
   "cell_type": "code",
   "execution_count": 10,
   "metadata": {},
   "outputs": [],
   "source": [
    "class ConvNet(nn.Module):\n",
    "    def __init__(self):\n",
    "        super(ConvNet, self).__init__()\n",
    "        self.conv1 = nn.Conv2d(32, 64, kernel_size=3, stride=1, padding=0)\n",
    "        self.conv2 = nn.Conv2d(64, 32, kernel_size=3, stride=1, padding=0)\n",
    "        self.relu = nn.ReLU()\n",
    "        self.pool = nn.MaxPool2d(kernel_size=2, stride=2)\n",
    "\n",
    "        self.fc1 = nn.Linear(254 * 254, 1024)\n",
    "\n",
    "    def forward(self, x):\n",
    "        x = self.conv1(x)\n",
    "        x = self.relu(x)\n",
    "        x = self.pool(x)\n",
    "\n",
    "        x = self.conv2(x)\n",
    "        x = self.relu(x)\n",
    "        x = self.pool(x)\n",
    "\n",
    "        x = x.view(x.shape[0],x.shape[1], x.shape[2]* x.shape[3])\n",
    "        x = self.fc1(x)\n",
    "        \n",
    "        return x"
   ]
  },
  {
   "cell_type": "code",
   "execution_count": 13,
   "metadata": {},
   "outputs": [],
   "source": [
    "# 假设图像或者视频模态为 input1\n",
    "input1 = torch.randn(1, 32, 1024).cuda()  # 模态1特征，大小为 [batch_size, num_channels, feature_dim]\n",
    "input2 = torch.randn(1, 32, 1024).cuda()  # 模态2特征，大小为 [batch_size, num_channels, feature_dim]\n",
    "input3 = torch.randn(1, 32, 1024).cuda()  # 模态3特征，大小为 [batch_size, num_channels, feature_dim]\n",
    "\n",
    "outer_product1 = torch.einsum('bci,bcj->bcij', input1, input2)\n",
    "outer_product2 = torch.einsum('bci,bcj->bcij', input1, input3)"
   ]
  },
  {
   "cell_type": "code",
   "execution_count": 14,
   "metadata": {},
   "outputs": [],
   "source": [
    "model = ConvNet().cuda()\n",
    "out1 = model(outer_product1)\n",
    "out2 = model(outer_product2)"
   ]
  },
  {
   "cell_type": "code",
   "execution_count": 15,
   "metadata": {},
   "outputs": [],
   "source": [
    "outer_product = torch.einsum('bci,bcj->bcij', out1, out2)\n",
    "out = model(outer_product)"
   ]
  },
  {
   "cell_type": "code",
   "execution_count": 16,
   "metadata": {},
   "outputs": [
    {
     "data": {
      "text/plain": [
       "torch.Size([1, 32, 1024])"
      ]
     },
     "execution_count": 16,
     "metadata": {},
     "output_type": "execute_result"
    }
   ],
   "source": [
    "out.shape"
   ]
  },
  {
   "cell_type": "code",
   "execution_count": null,
   "metadata": {},
   "outputs": [],
   "source": [
    "# 扩散模型子结构测试\n",
    "\n",
    "repo_id = \"stabilityai/stable-diffusion-2-base\"\n",
    "pipe = DiffusionPipeline.from_pretrained(repo_id, torch_dtype=torch.float16, revision=\"fp16\")\n",
    "\n",
    "pipe.scheduler = DPMSolverMultistepScheduler.from_config(pipe.scheduler.config)\n",
    "pipe = pipe.to(\"cuda\")\n",
    "\n",
    "prompt = \"Best quality, masterpiece, ultra high res, (photorealistic:1.4), raw photo, 1girl, offshoulder, in the dark, deep shadow, low key, cold light\"\n",
    "image = pipe(prompt, num_inference_steps=50).images[0]\n",
    "image.save(\"astronaut.png\")\n",
    "\n",
    "pretrained_diffusion_path = \"stabilityai/stable-diffusion-2-base\"\n",
    "ldm_stable = StableDiffusionPipeline.from_pretrained(pretrained_diffusion_path).to('cuda:0')\n",
    "ldm_stable.scheduler = DDIMScheduler.from_config(ldm_stable.scheduler.config)\n",
    "\n",
    "code_all = ldm_stable.tokenizer(\"hello world xxxxxxxxfdgdfgdgxxxxxxxxxasfsdfsfdf\")\n",
    "code = ldm_stable.tokenizer.encode(\"hello world xxxxxxxxfdgdfgdgxxxxxxxxxasfsdfsfdf\")\n",
    "code_str = ldm_stable.tokenizer.decode(code)\n",
    "\n",
    "print(code_all)\n",
    "print(code)\n",
    "print(code_str)"
   ]
  }
 ],
 "metadata": {
  "kernelspec": {
   "display_name": "Python 3",
   "language": "python",
   "name": "python3"
  },
  "language_info": {
   "codemirror_mode": {
    "name": "ipython",
    "version": 3
   },
   "file_extension": ".py",
   "mimetype": "text/x-python",
   "name": "python",
   "nbconvert_exporter": "python",
   "pygments_lexer": "ipython3",
   "version": "3.8.10"
  },
  "orig_nbformat": 4
 },
 "nbformat": 4,
 "nbformat_minor": 2
}
